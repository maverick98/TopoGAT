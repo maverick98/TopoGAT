{
  "nbformat": 4,
  "nbformat_minor": 0,
  "metadata": {
    "colab": {
      "provenance": [],
      "mount_file_id": "1dEvEku0r9OeWgBx_OSBl0Duxlcd6H71d",
      "authorship_tag": "ABX9TyPam/y8gZH77b9eTgGrzmdS",
      "include_colab_link": true
    },
    "kernelspec": {
      "name": "python3",
      "display_name": "Python 3"
    },
    "language_info": {
      "name": "python"
    }
  },
  "cells": [
    {
      "cell_type": "markdown",
      "metadata": {
        "id": "view-in-github",
        "colab_type": "text"
      },
      "source": [
        "<a href=\"https://colab.research.google.com/github/maverick98/TopoGAT/blob/master/extract_analysis_report.ipynb\" target=\"_parent\"><img src=\"https://colab.research.google.com/assets/colab-badge.svg\" alt=\"Open In Colab\"/></a>"
      ]
    },
    {
      "cell_type": "code",
      "source": [
        "import os\n",
        "import nbformat\n",
        "\n",
        "def extract_topogat_vs_gat_summary_block(notebook_path, dataset, variant, base_dataset_dir):\n",
        "    with open(notebook_path, 'r', encoding='utf-8') as f:\n",
        "        nb = nbformat.read(f, as_version=4)\n",
        "\n",
        "    start_phrase = f\"Running experiment on {dataset} with variant '{variant}'\"\n",
        "    collect_from = \"Saved summary to\"\n",
        "    end_phrase = \"All analysis completed and saved.\"\n",
        "\n",
        "    collecting = False\n",
        "    found_section = False\n",
        "    log_lines = []\n",
        "\n",
        "    for cell in nb.cells:\n",
        "        sources = []\n",
        "\n",
        "        if cell.cell_type == 'markdown':\n",
        "            sources = cell.source.splitlines()\n",
        "        elif cell.cell_type == 'code':\n",
        "            sources = cell.source.splitlines()\n",
        "            for output in cell.get(\"outputs\", []):\n",
        "                if output.output_type == \"stream\":\n",
        "                    sources += output.text.splitlines()\n",
        "                elif output.output_type == \"execute_result\":\n",
        "                    if isinstance(output.data, dict):\n",
        "                        sources += output.data.get('text/plain', '').splitlines()\n",
        "\n",
        "        for line in sources:\n",
        "            if start_phrase in line:\n",
        "                found_section = True\n",
        "\n",
        "            if found_section and collect_from in line:\n",
        "                collecting = True\n",
        "\n",
        "            if collecting:\n",
        "                log_lines.append(line)\n",
        "                if end_phrase in line:\n",
        "                    collecting = False\n",
        "                    found_section = False\n",
        "\n",
        "    if log_lines:\n",
        "        os.makedirs(base_dataset_dir, exist_ok=True)\n",
        "        filename = f\"analysis_{dataset}_{variant}.log\"\n",
        "        save_path = os.path.join(base_dataset_dir, filename)\n",
        "        with open(save_path, 'w', encoding='utf-8') as f:\n",
        "            f.write(\"\\n\".join(log_lines))\n",
        "        print(f\"✅ Saved: {save_path}\")\n",
        "    else:\n",
        "        print(f\"❌ No summary block found for {dataset} with variant '{variant}'.\")\n",
        "\n",
        "def extract_all_variants(notebook_path, dataset, base_dir):\n",
        "    variants = [\"basic\", \"node_aware\", \"gated\", \"attn\"]\n",
        "    dataset_dir = os.path.join(base_dir, dataset)\n",
        "    for variant in variants:\n",
        "        extract_topogat_vs_gat_summary_block(notebook_path, dataset, variant, dataset_dir)\n",
        "\n",
        "\n"
      ],
      "metadata": {
        "id": "mp1-bl08gruX"
      },
      "execution_count": 45,
      "outputs": []
    },
    {
      "cell_type": "code",
      "source": [
        "# Example usage:\n",
        "notebook_path = \"TopoGAT_vs_GAT.ipynb\"\n",
        "base_dir = \"/content/drive/MyDrive/topogat_vs_gat\"\n",
        "datasets = [\"MUTAG\", \"PTC_MR\", \"PROTEINS\", \"ENZYMES\"]\n",
        "\n",
        "for dataset in datasets:\n",
        "    extract_all_variants(notebook_path, dataset, base_dir)"
      ],
      "metadata": {
        "colab": {
          "base_uri": "https://localhost:8080/"
        },
        "collapsed": true,
        "id": "9WwGHuMTipC3",
        "outputId": "a917d852-e416-47f7-e02a-a73cf026cfa0"
      },
      "execution_count": 46,
      "outputs": [
        {
          "output_type": "stream",
          "name": "stdout",
          "text": [
            "✅ Saved: /content/drive/MyDrive/topogat_vs_gat/MUTAG/analysis_MUTAG_basic.log\n",
            "✅ Saved: /content/drive/MyDrive/topogat_vs_gat/MUTAG/analysis_MUTAG_node_aware.log\n",
            "✅ Saved: /content/drive/MyDrive/topogat_vs_gat/MUTAG/analysis_MUTAG_gated.log\n",
            "✅ Saved: /content/drive/MyDrive/topogat_vs_gat/MUTAG/analysis_MUTAG_attn.log\n",
            "✅ Saved: /content/drive/MyDrive/topogat_vs_gat/PTC_MR/analysis_PTC_MR_basic.log\n",
            "✅ Saved: /content/drive/MyDrive/topogat_vs_gat/PTC_MR/analysis_PTC_MR_node_aware.log\n",
            "✅ Saved: /content/drive/MyDrive/topogat_vs_gat/PTC_MR/analysis_PTC_MR_gated.log\n",
            "✅ Saved: /content/drive/MyDrive/topogat_vs_gat/PTC_MR/analysis_PTC_MR_attn.log\n",
            "✅ Saved: /content/drive/MyDrive/topogat_vs_gat/PROTEINS/analysis_PROTEINS_basic.log\n",
            "✅ Saved: /content/drive/MyDrive/topogat_vs_gat/PROTEINS/analysis_PROTEINS_node_aware.log\n",
            "✅ Saved: /content/drive/MyDrive/topogat_vs_gat/PROTEINS/analysis_PROTEINS_gated.log\n",
            "✅ Saved: /content/drive/MyDrive/topogat_vs_gat/PROTEINS/analysis_PROTEINS_attn.log\n",
            "✅ Saved: /content/drive/MyDrive/topogat_vs_gat/ENZYMES/analysis_ENZYMES_basic.log\n",
            "✅ Saved: /content/drive/MyDrive/topogat_vs_gat/ENZYMES/analysis_ENZYMES_node_aware.log\n",
            "✅ Saved: /content/drive/MyDrive/topogat_vs_gat/ENZYMES/analysis_ENZYMES_gated.log\n",
            "✅ Saved: /content/drive/MyDrive/topogat_vs_gat/ENZYMES/analysis_ENZYMES_attn.log\n"
          ]
        }
      ]
    },
    {
      "cell_type": "code",
      "source": [
        "import os\n",
        "import nbformat\n",
        "\n",
        "def extract_topogat_vs_gin_summary_block(notebook_path, dataset, variant, base_dataset_dir):\n",
        "    with open(notebook_path, 'r', encoding='utf-8') as f:\n",
        "        nb = nbformat.read(f, as_version=4)\n",
        "\n",
        "    start_phrase = f\"Running  TopoGATvsGINExperiment experiment on {dataset} with variant '{variant}'\"\n",
        "    collect_from = \"Saved summary to\"\n",
        "    end_phrase = \"All analysis completed and saved.\"\n",
        "\n",
        "    collecting = False\n",
        "    found_section = False\n",
        "    log_lines = []\n",
        "\n",
        "    for cell in nb.cells:\n",
        "        sources = []\n",
        "\n",
        "        if cell.cell_type == 'markdown':\n",
        "            sources = cell.source.splitlines()\n",
        "        elif cell.cell_type == 'code':\n",
        "            sources = cell.source.splitlines()\n",
        "            for output in cell.get(\"outputs\", []):\n",
        "                if output.output_type == \"stream\":\n",
        "                    sources += output.text.splitlines()\n",
        "                elif output.output_type == \"execute_result\":\n",
        "                    if isinstance(output.data, dict):\n",
        "                        sources += output.data.get('text/plain', '').splitlines()\n",
        "\n",
        "        for line in sources:\n",
        "            if start_phrase in line:\n",
        "                found_section = True\n",
        "\n",
        "            if found_section and collect_from in line:\n",
        "                collecting = True\n",
        "\n",
        "            if collecting:\n",
        "                log_lines.append(line)\n",
        "                if end_phrase in line:\n",
        "                    collecting = False\n",
        "                    found_section = False\n",
        "\n",
        "    if log_lines:\n",
        "        os.makedirs(base_dataset_dir, exist_ok=True)\n",
        "        filename = f\"analysis_{dataset}_{variant}.log\"\n",
        "        save_path = os.path.join(base_dataset_dir, filename)\n",
        "        with open(save_path, 'w', encoding='utf-8') as f:\n",
        "            f.write(\"\\n\".join(log_lines))\n",
        "        print(f\"✅ Saved: {save_path}\")\n",
        "    else:\n",
        "        print(f\"❌ No summary block found for {dataset} with variant '{variant}'.\")\n",
        "\n",
        "def extract_all_variants(notebook_path, dataset, base_dir):\n",
        "    variants = [\"basic\", \"node_aware\", \"gated\", \"attn\"]\n",
        "    dataset_dir = os.path.join(base_dir, dataset)\n",
        "    for variant in variants:\n",
        "        extract_topogat_vs_gin_summary_block(notebook_path, dataset, variant, dataset_dir)\n",
        "\n",
        "\n"
      ],
      "metadata": {
        "id": "dgcj4CNEjv2Q"
      },
      "execution_count": 47,
      "outputs": []
    },
    {
      "cell_type": "code",
      "source": [
        "# Example usage:\n",
        "notebook_path = \"TopoGAT_vs_GIN.ipynb\"\n",
        "base_dir = \"/content/drive/MyDrive/topogat_vs_gin\"\n",
        "datasets = [\"MUTAG\", \"PTC_MR\", \"PROTEINS\", \"ENZYMES\"]\n",
        "\n",
        "for dataset in datasets:\n",
        "    extract_all_variants(notebook_path, dataset, base_dir)"
      ],
      "metadata": {
        "colab": {
          "base_uri": "https://localhost:8080/"
        },
        "id": "8WY9iMr2isuN",
        "outputId": "3a77a33e-b2d0-46b5-abcb-4bd493dfa3d1"
      },
      "execution_count": 48,
      "outputs": [
        {
          "output_type": "stream",
          "name": "stdout",
          "text": [
            "✅ Saved: /content/drive/MyDrive/topogat_vs_gin/MUTAG/analysis_MUTAG_basic.log\n",
            "✅ Saved: /content/drive/MyDrive/topogat_vs_gin/MUTAG/analysis_MUTAG_node_aware.log\n",
            "✅ Saved: /content/drive/MyDrive/topogat_vs_gin/MUTAG/analysis_MUTAG_gated.log\n",
            "✅ Saved: /content/drive/MyDrive/topogat_vs_gin/MUTAG/analysis_MUTAG_attn.log\n",
            "✅ Saved: /content/drive/MyDrive/topogat_vs_gin/PTC_MR/analysis_PTC_MR_basic.log\n",
            "✅ Saved: /content/drive/MyDrive/topogat_vs_gin/PTC_MR/analysis_PTC_MR_node_aware.log\n",
            "✅ Saved: /content/drive/MyDrive/topogat_vs_gin/PTC_MR/analysis_PTC_MR_gated.log\n",
            "✅ Saved: /content/drive/MyDrive/topogat_vs_gin/PTC_MR/analysis_PTC_MR_attn.log\n",
            "✅ Saved: /content/drive/MyDrive/topogat_vs_gin/PROTEINS/analysis_PROTEINS_basic.log\n",
            "✅ Saved: /content/drive/MyDrive/topogat_vs_gin/PROTEINS/analysis_PROTEINS_node_aware.log\n",
            "✅ Saved: /content/drive/MyDrive/topogat_vs_gin/PROTEINS/analysis_PROTEINS_gated.log\n",
            "✅ Saved: /content/drive/MyDrive/topogat_vs_gin/PROTEINS/analysis_PROTEINS_attn.log\n",
            "✅ Saved: /content/drive/MyDrive/topogat_vs_gin/ENZYMES/analysis_ENZYMES_basic.log\n",
            "✅ Saved: /content/drive/MyDrive/topogat_vs_gin/ENZYMES/analysis_ENZYMES_node_aware.log\n",
            "✅ Saved: /content/drive/MyDrive/topogat_vs_gin/ENZYMES/analysis_ENZYMES_gated.log\n",
            "✅ Saved: /content/drive/MyDrive/topogat_vs_gin/ENZYMES/analysis_ENZYMES_attn.log\n"
          ]
        }
      ]
    }
  ]
}