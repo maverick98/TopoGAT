{
  "cells": [
    {
      "cell_type": "markdown",
      "metadata": {
        "id": "view-in-github",
        "colab_type": "text"
      },
      "source": [
        "<a href=\"https://colab.research.google.com/github/maverick98/TopoGAT/blob/master/TopoGAT_1.ipynb\" target=\"_parent\"><img src=\"https://colab.research.google.com/assets/colab-badge.svg\" alt=\"Open In Colab\"/></a>"
      ]
    },
    {
      "cell_type": "code",
      "source": [
        "!rm -rf /content/topogat-code"
      ],
      "metadata": {
        "id": "578nZSuGMO7o"
      },
      "execution_count": 1,
      "outputs": []
    },
    {
      "cell_type": "code",
      "source": [
        "# Clone your SourceForge repo\n",
        "!git clone https://msahu98@git.code.sf.net/p/topogat/code topogat-code\n",
        "\n",
        "# Change directory into the cloned repo\n",
        "%cd topogat-code"
      ],
      "metadata": {
        "colab": {
          "base_uri": "https://localhost:8080/"
        },
        "id": "7ciHQd3ktZRS",
        "outputId": "24b948cf-9e6c-4aad-da65-9cfb93ab5d53"
      },
      "execution_count": 2,
      "outputs": [
        {
          "output_type": "stream",
          "name": "stdout",
          "text": [
            "Cloning into 'topogat-code'...\n",
            "remote: Enumerating objects: 83, done.\u001b[K\n",
            "remote: Counting objects: 100% (83/83), done.\u001b[K\n",
            "remote: Compressing objects: 100% (72/72), done.\u001b[K\n",
            "remote: Total 83 (delta 25), reused 0 (delta 0)\u001b[K\n",
            "Unpacking objects: 100% (83/83), 18.40 KiB | 400.00 KiB/s, done.\n",
            "/content/topogat-code\n"
          ]
        }
      ]
    },
    {
      "cell_type": "code",
      "execution_count": null,
      "metadata": {
        "id": "vyx6OohPdYfs",
        "collapsed": true
      },
      "outputs": [],
      "source": [
        "\n",
        "\n",
        "# Install required packages\n",
        "!pip install -r requirements.txt -q\n",
        "\n",
        "\n",
        "# Optional: Kill the runtime to cleanly reload all dependencies\n",
        "import os\n",
        "os.kill(os.getpid(), 9)\n"
      ]
    },
    {
      "cell_type": "code",
      "source": [
        "import sys\n",
        "sys.path.append('/content/topogat-code')\n",
        "import os\n",
        "os.chdir('/content/topogat-code')\n"
      ],
      "metadata": {
        "id": "hO_lw5PyxV-6"
      },
      "execution_count": 1,
      "outputs": []
    },
    {
      "cell_type": "code",
      "source": [
        "!pwd"
      ],
      "metadata": {
        "colab": {
          "base_uri": "https://localhost:8080/"
        },
        "id": "-eSpFvxvMnJD",
        "outputId": "5c29c81e-db4f-4eeb-d22f-3c6b4ba858c0"
      },
      "execution_count": 2,
      "outputs": [
        {
          "output_type": "stream",
          "name": "stdout",
          "text": [
            "/content/topogat-code\n"
          ]
        }
      ]
    },
    {
      "cell_type": "code",
      "source": [
        "# Navigate to main project directory again (after runtime restart)\n",
        "\n",
        "!python main.py\n"
      ],
      "metadata": {
        "colab": {
          "base_uri": "https://localhost:8080/"
        },
        "id": "rzGFhj1-v7yT",
        "outputId": "9c9395f3-9094-4684-83f7-07613830d844"
      },
      "execution_count": 3,
      "outputs": [
        {
          "output_type": "stream",
          "name": "stdout",
          "text": [
            "2025-06-22 08:19:27,507 NumExpr defaulting to 2 threads.\n",
            "Downloading https://github.com/kimiyoung/planetoid/raw/master/data/ind.cora.x\n",
            "Downloading https://github.com/kimiyoung/planetoid/raw/master/data/ind.cora.tx\n",
            "Downloading https://github.com/kimiyoung/planetoid/raw/master/data/ind.cora.allx\n",
            "Downloading https://github.com/kimiyoung/planetoid/raw/master/data/ind.cora.y\n",
            "Downloading https://github.com/kimiyoung/planetoid/raw/master/data/ind.cora.ty\n",
            "Downloading https://github.com/kimiyoung/planetoid/raw/master/data/ind.cora.ally\n",
            "Downloading https://github.com/kimiyoung/planetoid/raw/master/data/ind.cora.graph\n",
            "Downloading https://github.com/kimiyoung/planetoid/raw/master/data/ind.cora.test.index\n",
            "Processing...\n",
            "Done!\n",
            "/content/topogat-code/utils/topology.py:104: UserWarning: Creating a tensor from a list of numpy.ndarrays is extremely slow. Please consider converting the list to a single numpy.ndarray with numpy.array() before converting to a tensor. (Triggered internally at /pytorch/torch/csrc/utils/tensor_new.cpp:254.)\n",
            "  return torch.tensor(diagrams, dtype=torch.float)\n",
            "2025-06-22 08:19:33,695 Epoch 0, Loss: 1.9469\n",
            "2025-06-22 08:19:34,995 Epoch 20, Loss: 1.7829\n",
            "2025-06-22 08:19:36,259 Epoch 40, Loss: 1.5501\n",
            "2025-06-22 08:19:37,823 Epoch 60, Loss: 1.2941\n",
            "2025-06-22 08:19:39,402 Epoch 80, Loss: 0.9889\n",
            "2025-06-22 08:19:41,172 Epoch 100, Loss: 0.8736\n",
            "2025-06-22 08:19:42,930 Epoch 120, Loss: 0.9389\n",
            "2025-06-22 08:19:44,246 Epoch 140, Loss: 0.7545\n",
            "2025-06-22 08:19:45,525 Epoch 160, Loss: 0.6971\n",
            "2025-06-22 08:19:46,873 Epoch 180, Loss: 0.7930\n",
            "Test Accuracy: 0.8290\n"
          ]
        }
      ]
    }
  ],
  "metadata": {
    "colab": {
      "provenance": [],
      "authorship_tag": "ABX9TyPpQ/LQvSV6FBN6jR27sKfj",
      "include_colab_link": true
    },
    "kernelspec": {
      "display_name": "Python 3",
      "name": "python3"
    },
    "language_info": {
      "name": "python"
    }
  },
  "nbformat": 4,
  "nbformat_minor": 0
}